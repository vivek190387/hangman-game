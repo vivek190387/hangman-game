{
 "cells": [
  {
   "cell_type": "code",
   "execution_count": 2,
   "id": "decebdce-fb6e-4036-9cbd-6d703bef0625",
   "metadata": {},
   "outputs": [
    {
     "name": "stdout",
     "output_type": "stream",
     "text": [
      "welcome to hangman!\n",
      "Word: _____\n"
     ]
    },
    {
     "name": "stdin",
     "output_type": "stream",
     "text": [
      "Guess a letter:  a\n"
     ]
    },
    {
     "name": "stdout",
     "output_type": "stream",
     "text": [
      "Word: __a__\n"
     ]
    },
    {
     "name": "stdin",
     "output_type": "stream",
     "text": [
      "Guess a letter:  g\n"
     ]
    },
    {
     "name": "stdout",
     "output_type": "stream",
     "text": [
      "Word: g_a__\n"
     ]
    },
    {
     "name": "stdin",
     "output_type": "stream",
     "text": [
      "Guess a letter:  r\n"
     ]
    },
    {
     "name": "stdout",
     "output_type": "stream",
     "text": [
      "Word: gra__\n"
     ]
    },
    {
     "name": "stdin",
     "output_type": "stream",
     "text": [
      "Guess a letter:  p\n"
     ]
    },
    {
     "name": "stdout",
     "output_type": "stream",
     "text": [
      "Word: grap_\n"
     ]
    },
    {
     "name": "stdin",
     "output_type": "stream",
     "text": [
      "Guess a letter:  e\n"
     ]
    },
    {
     "name": "stdout",
     "output_type": "stream",
     "text": [
      "Word: grape\n",
      "You won!\n"
     ]
    }
   ],
   "source": [
    "import random\n",
    "\n",
    "words = [\"apple\",\"grape\",\"mango\",\"peach\",\"berry\"]\n",
    "word = random.choice(words)\n",
    "guessed =[]\n",
    "turns = 6\n",
    "print(\"welcome to hangman!\")\n",
    "while turns > 0:\n",
    "    display = \"\"\n",
    "    for char in word:\n",
    "        if char in guessed:\n",
    "            display += char\n",
    "        else:            display += \"_\"\n",
    "    print(\"Word:\", display)\n",
    "\n",
    "    if display == word:\n",
    "        print(\"You won!\")\n",
    "        break\n",
    "\n",
    "    guess = input(\"Guess a letter: \").lower()\n",
    "    if guess in guessed:\n",
    "        print(\"Already guessed.\")\n",
    "        continue\n",
    "    guessed.append(guess)\n",
    "\n",
    "    if guess not in word:\n",
    "        turns -= 1\n",
    "        print(\"Wrong! You have\", turns,\"chances left.\")\n",
    "    if turns == 0:\n",
    "        print(\"you lost ! the word was:\",word)"
   ]
  },
  {
   "cell_type": "code",
   "execution_count": null,
   "id": "cba34566-a65b-459d-8827-1056254af176",
   "metadata": {},
   "outputs": [],
   "source": []
  }
 ],
 "metadata": {
  "kernelspec": {
   "display_name": "Python [conda env:base] *",
   "language": "python",
   "name": "conda-base-py"
  },
  "language_info": {
   "codemirror_mode": {
    "name": "ipython",
    "version": 3
   },
   "file_extension": ".py",
   "mimetype": "text/x-python",
   "name": "python",
   "nbconvert_exporter": "python",
   "pygments_lexer": "ipython3",
   "version": "3.12.7"
  }
 },
 "nbformat": 4,
 "nbformat_minor": 5
}
